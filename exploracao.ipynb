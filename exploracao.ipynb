{
 "cells": [
  {
   "cell_type": "code",
   "execution_count": 2,
   "id": "ce3c74c7",
   "metadata": {},
   "outputs": [
    {
     "name": "stdout",
     "output_type": "stream",
     "text": [
      "[1] \"data_SK2018\" \"data_K2019\"  \"data_S2019\"  \"data_G2019\" \n",
      "\n"
     ]
    }
   ],
   "source": [
    "import os\n",
    "os.environ['R_USER'] = 'home\\vni\\anaconda3\\lib\\python3.7\\site-packages\\rpy2'\n",
    "import rpy2.robjects as ro\n",
    "\n",
    "x = ro.r['load'](\"data_metaanalysis.RData\")\n",
    "# print(x)\n"
   ]
  },
  {
   "cell_type": "code",
   "execution_count": 13,
   "id": "ce1fb00e",
   "metadata": {},
   "outputs": [
    {
     "name": "stdout",
     "output_type": "stream",
     "text": [
      "2\n",
      "2\n",
      "2\n",
      "2\n",
      "2\n",
      "2\n",
      "2\n",
      "2\n",
      "2\n",
      "2\n",
      "2\n",
      "2\n",
      "2\n",
      "2\n",
      "2\n",
      "2\n",
      "2\n",
      "2\n",
      "2\n",
      "2\n",
      "1\n"
     ]
    }
   ],
   "source": [
    "a = ro.r(x[0])\n",
    "# print(a)\n",
    "# a\n",
    "ls = ro.r('ls')\n",
    "b = a[0]\n",
    "# a['data']\n",
    "# print(type(b))\n",
    "# ls(b)\n",
    "# print()\n",
    "# b\n",
    "# print(len(b))\n",
    "\n",
    "\n",
    "# b.rx2('vpnum')\n",
    "# ls(a)\n",
    "# b[2]\n",
    "# print(type(b))\n",
    "# for column in b:\n",
    "#     print(column)\n",
    "# print(b[0])\n",
    "# [column.rclass[0] for column in b]\n",
    "# [column for column in b]\n",
    "a?\n",
    "a.items()\n",
    "a\n",
    "ls(a)\n",
    "for i in range(20):\n",
    "    print(b[0][i])\n",
    "\n",
    "print(b[0][-1])\n"
   ]
  },
  {
   "cell_type": "code",
   "execution_count": null,
   "id": "66f1b0e0",
   "metadata": {},
   "outputs": [],
   "source": []
  },
  {
   "cell_type": "code",
   "execution_count": 9,
   "id": "ed8d034f",
   "metadata": {},
   "outputs": [
    {
     "name": "stdout",
     "output_type": "stream",
     "text": [
      "[1] \"data_SK2018\" \"data_K2019\"  \"data_S2019\"  \"data_G2019\" \n",
      "\n"
     ]
    }
   ],
   "source": []
  },
  {
   "cell_type": "code",
   "execution_count": 10,
   "id": "89069031",
   "metadata": {},
   "outputs": [
    {
     "name": "stdout",
     "output_type": "stream",
     "text": [
      "<rpy2.robjects.R object at 0x7f80deaf85d0>\n",
      "platform: x86_64-conda_cos6-linux-gnu\n",
      "arch: x86_64\n",
      "os: linux-gnu\n",
      "system: x86_64, linux-gnu\n",
      "status: \n",
      "major: 3\n",
      "minor: 6.1\n",
      "year: 2019\n",
      "month: 07\n",
      "day: 05\n",
      "svn rev: 76782\n",
      "language: R\n",
      "version.string: R version 3.6.1 (2019-07-05)\n",
      "nickname: Action of the Toes\n"
     ]
    }
   ],
   "source": [
    "\n",
    "\n"
   ]
  }
 ],
 "metadata": {
  "kernelspec": {
   "display_name": "Python 3",
   "language": "python",
   "name": "python3"
  },
  "language_info": {
   "codemirror_mode": {
    "name": "ipython",
    "version": 3
   },
   "file_extension": ".py",
   "mimetype": "text/x-python",
   "name": "python",
   "nbconvert_exporter": "python",
   "pygments_lexer": "ipython3",
   "version": "3.7.7"
  }
 },
 "nbformat": 4,
 "nbformat_minor": 5
}
